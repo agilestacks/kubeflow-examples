{
 "cells": [
  {
   "cell_type": "raw",
   "metadata": {},
   "source": [
    "! pip install -U -r yolov5/requirements.txt --user\n",
    "! aws s3 cp \"$DATASET_S3_URL\" \"facemask-dataset.zip\"\n",
    "! unzip -fu \"facemask-dataset.zip\"\n",
    "\n",
    "! pip install --user -U kfp"
   ]
  },
  {
   "cell_type": "code",
   "execution_count": 3,
   "metadata": {
    "scrolled": true
   },
   "outputs": [],
   "source": [
    "from IPython.core.display import display, HTML\n",
    "from os import environ\n",
    "\n",
    "EXTERNAL_HOST  = environ[\"KUBEFLOW_HOST\"]\n",
    "# NB_PREFIX injected by notebook controller\n",
    "NOTEBOOK_NAME  = environ[\"NB_PREFIX\"].split(\"/\")[-1]\n",
    "NAMESPACE      = environ[\"THIS_NAMESPACE\"]\n",
    "KFP_EXPERIMENT = environ[\"KF_PIPELINES_DEFAULT_EXPERIMENT_NAME\"]"
   ]
  },
  {
   "cell_type": "code",
   "execution_count": null,
   "metadata": {},
   "outputs": [],
   "source": [
    "! cd yolov5 && python train.py \\\n",
    "    --epochs 2 \\\n",
    "    --img 416 \\\n",
    "    --batch 16 \\\n",
    "    --data \"../data.yaml\" \\\n",
    "    --cfg \"../yolov5/models/yolov5s.yaml\" \\\n",
    "    --weights '' \\\n",
    "    --name \"mask_yolov5s_results\" \\\n",
    "    --nosave --cache\n"
   ]
  },
  {
   "cell_type": "code",
   "execution_count": null,
   "metadata": {},
   "outputs": [],
   "source": [
    "ISTIO_GATEWAY = environ[\"KUBEFLOW_ISTIO_GATEWAY\"]\n",
    "WORKSPACE_DIR = environ[\"HOME\"]\n",
    "WORKSPACE_PVC = f\"workspace-{NOTEBOOK_NAME}\"\n",
    "IMAGE         = \"public.ecr.aws/b6s5p9p4/tensorflow21-opencv:92b7575\"\n",
    "LOGS_DIR      = \"yolov5/runs\"\n",
    "\n",
    "with open('tensorboard.yaml', 'w') as f:\n",
    "    f.write(f\"\"\"---    \n",
    "apiVersion: v1\n",
    "kind: Pod\n",
    "metadata:\n",
    "  name: \"{NOTEBOOK_NAME}-tensorboard\"\n",
    "  labels:\n",
    "    app.kubernetes.io/name: \"tensorboard\"\n",
    "    app.kubernetes.io/instance: \"{NOTEBOOK_NAME}\"\n",
    "spec:\n",
    "  serviceAccount: default-viewer\n",
    "  containers:\n",
    "  - command: [\n",
    "      \"/usr/local/bin/tensorboard\", \"--logdir\", \"/home/jovyan/yolov5/runs\",\n",
    "      \"--host\", \"0.0.0.0\", \"--port\", \"6006\"\n",
    "    ]\n",
    "    image: \"{IMAGE}\"\n",
    "    imagePullPolicy: \"IfNotPresent\"\n",
    "    name: \"tensorboard\"\n",
    "    ports:\n",
    "    - containerPort: 6006\n",
    "    volumeMounts:\n",
    "    - mountPath: \"{WORKSPACE_DIR}\"\n",
    "      name: \"shared-vol\"\n",
    "  volumes:\n",
    "    - name: \"shared-vol\"\n",
    "      persistentVolumeClaim:\n",
    "        claimName: \"{WORKSPACE_PVC}\"\n",
    "---\n",
    "apiVersion: v1\n",
    "kind: Service\n",
    "metadata:\n",
    "  labels:\n",
    "    app.kubernetes.io/name: \"tensorboard\"\n",
    "    app.kubernetes.io/instance: \"{NOTEBOOK_NAME}\"\n",
    "  name: \"{NOTEBOOK_NAME}-tensorboard\"\n",
    "spec:\n",
    "  ports:\n",
    "  - name: http\n",
    "    port: 6006\n",
    "    targetPort: 6006\n",
    "  selector:\n",
    "    app.kubernetes.io/name: \"tensorboard\"\n",
    "    app.kubernetes.io/instance: \"{NOTEBOOK_NAME}\"\n",
    "  type: ClusterIP\n",
    "---\n",
    "apiVersion: networking.istio.io/v1alpha3\n",
    "kind: VirtualService\n",
    "metadata:\n",
    "  name: \"{NOTEBOOK_NAME}-tensorboard\"\n",
    "  labels:\n",
    "    app.kubernetes.io/name: \"tensorboard\"\n",
    "    app.kubernetes.io/instance: \"{NOTEBOOK_NAME}\"\n",
    "spec:\n",
    "  gateways:\n",
    "  - \"{ISTIO_GATEWAY}\"\n",
    "  hosts:\n",
    "  - \"*\"\n",
    "  http:\n",
    "  - match:\n",
    "    - uri:\n",
    "        prefix: \"/tensorboard/{NAMESPACE}/{NOTEBOOK_NAME}/\"\n",
    "    rewrite:\n",
    "      uri: /\n",
    "    route:\n",
    "    - destination:\n",
    "        host: \"{NOTEBOOK_NAME}-tensorboard.{NAMESPACE}.svc.cluster.local\"\n",
    "        port:\n",
    "          number: 6006\n",
    "\"\"\")\n",
    "    \n",
    "! kubectl apply -f 'tensorboard.yaml'\n",
    "display(HTML(f\"<a target=\\\"_blank\\\" href=\\\"http://{EXTERNAL_HOST}/tensorboard/{NAMESPACE}/{NOTEBOOK_NAME}/\\\">open here</a>\"))"
   ]
  },
  {
   "cell_type": "markdown",
   "metadata": {
    "variables": {
     "EXTERNAL_HOST": {}
    }
   },
   "source": [
    "External host: `{{EXTERNAL_HOST}}`"
   ]
  },
  {
   "cell_type": "code",
   "execution_count": null,
   "metadata": {},
   "outputs": [],
   "source": [
    "print(\"Waiting for tensorboard up and running...\")\n",
    "\n",
    "! kubectl wait --for=\"condition=Ready\"  -f 'tensorboard.yaml'"
   ]
  },
  {
   "cell_type": "code",
   "execution_count": null,
   "metadata": {},
   "outputs": [],
   "source": [
    "# ! kubectl delete -f 'tensorboard.yaml"
   ]
  },
  {
   "cell_type": "markdown",
   "metadata": {},
   "source": [
    "# Pipelines\n",
    "\n"
   ]
  },
  {
   "cell_type": "code",
   "execution_count": 1,
   "metadata": {},
   "outputs": [
    {
     "name": "stdout",
     "output_type": "stream",
     "text": [
      "Collecting pip\n",
      "\u001b[?25l  Downloading https://files.pythonhosted.org/packages/fe/ef/60d7ba03b5c442309ef42e7d69959f73aacccd0d86008362a681c4698e83/pip-21.0.1-py3-none-any.whl (1.5MB)\n",
      "\u001b[K     |████████████████████████████████| 1.5MB 24.3MB/s eta 0:00:01\n",
      "\u001b[?25hInstalling collected packages: pip\n",
      "Successfully installed pip-21.0.1\n",
      "WARNING: pip is being invoked by an old script wrapper. This will fail in a future version of pip.\n",
      "Please see https://github.com/pypa/pip/issues/5599 for advice on fixing the underlying issue.\n",
      "To avoid this problem you can invoke Python with '-m pip' instead of running pip directly.\n",
      "Requirement already satisfied: kfp in /home/jovyan/.local/lib/python3.6/site-packages (1.4.0)\n",
      "Requirement already satisfied: kfp-server-api<2.0.0,>=1.1.2 in /home/jovyan/.local/lib/python3.6/site-packages (from kfp) (1.3.0)\n",
      "Requirement already satisfied: fire>=0.3.1 in /home/jovyan/.local/lib/python3.6/site-packages (from kfp) (0.4.0)\n",
      "Requirement already satisfied: docstring-parser>=0.7.3 in /home/jovyan/.local/lib/python3.6/site-packages (from kfp) (0.7.3)\n",
      "Requirement already satisfied: google-cloud-storage>=1.13.0 in /usr/local/lib/python3.6/dist-packages (from kfp) (1.25.0)\n",
      "Requirement already satisfied: click in /home/jovyan/.local/lib/python3.6/site-packages (from kfp) (7.1.2)\n",
      "Requirement already satisfied: cloudpickle in /usr/local/lib/python3.6/dist-packages (from kfp) (1.2.2)\n",
      "Requirement already satisfied: strip-hints in /home/jovyan/.local/lib/python3.6/site-packages (from kfp) (0.1.9)\n",
      "Requirement already satisfied: requests-toolbelt>=0.8.0 in /home/jovyan/.local/lib/python3.6/site-packages (from kfp) (0.9.1)\n",
      "Requirement already satisfied: Deprecated in /home/jovyan/.local/lib/python3.6/site-packages (from kfp) (1.2.11)\n",
      "Requirement already satisfied: kfp-pipeline-spec<0.2.0,>=0.1.0 in /home/jovyan/.local/lib/python3.6/site-packages (from kfp) (0.1.5)\n",
      "Requirement already satisfied: google-auth>=1.6.1 in /usr/local/lib/python3.6/dist-packages (from kfp) (1.10.0)\n",
      "Requirement already satisfied: tabulate in /home/jovyan/.local/lib/python3.6/site-packages (from kfp) (0.8.7)\n",
      "Requirement already satisfied: jsonschema>=3.0.1 in /usr/local/lib/python3.6/dist-packages (from kfp) (3.2.0)\n",
      "Requirement already satisfied: kubernetes<12.0.0,>=8.0.0 in /usr/local/lib/python3.6/dist-packages (from kfp) (10.0.1)\n",
      "Requirement already satisfied: PyYAML>=5.3 in /usr/local/lib/python3.6/dist-packages (from kfp) (5.3)\n",
      "Requirement already satisfied: termcolor in /usr/local/lib/python3.6/dist-packages (from fire>=0.3.1->kfp) (1.1.0)\n",
      "Requirement already satisfied: six in /usr/local/lib/python3.6/dist-packages (from fire>=0.3.1->kfp) (1.13.0)\n",
      "Requirement already satisfied: rsa<4.1,>=3.1.4 in /usr/local/lib/python3.6/dist-packages (from google-auth>=1.6.1->kfp) (4.0)\n",
      "Requirement already satisfied: setuptools>=40.3.0 in /usr/local/lib/python3.6/dist-packages (from google-auth>=1.6.1->kfp) (44.0.0)\n",
      "Requirement already satisfied: cachetools<5.0,>=2.0.0 in /usr/local/lib/python3.6/dist-packages (from google-auth>=1.6.1->kfp) (4.0.0)\n",
      "Requirement already satisfied: pyasn1-modules>=0.2.1 in /usr/local/lib/python3.6/dist-packages (from google-auth>=1.6.1->kfp) (0.2.8)\n",
      "Requirement already satisfied: google-resumable-media<0.6dev,>=0.5.0 in /usr/local/lib/python3.6/dist-packages (from google-cloud-storage>=1.13.0->kfp) (0.5.0)\n",
      "Requirement already satisfied: google-cloud-core<2.0dev,>=1.2.0 in /usr/local/lib/python3.6/dist-packages (from google-cloud-storage>=1.13.0->kfp) (1.3.0)\n",
      "Requirement already satisfied: google-api-core<2.0.0dev,>=1.16.0 in /home/jovyan/.local/lib/python3.6/site-packages (from google-cloud-core<2.0dev,>=1.2.0->google-cloud-storage>=1.13.0->kfp) (1.26.0)\n",
      "Requirement already satisfied: googleapis-common-protos<2.0dev,>=1.6.0 in /usr/local/lib/python3.6/dist-packages (from google-api-core<2.0.0dev,>=1.16.0->google-cloud-core<2.0dev,>=1.2.0->google-cloud-storage>=1.13.0->kfp) (1.51.0)\n",
      "Collecting google-auth>=1.6.1\n",
      "  Downloading google_auth-1.26.1-py2.py3-none-any.whl (116 kB)\n",
      "\u001b[K     |████████████████████████████████| 116 kB 27.1 MB/s eta 0:00:01\n",
      "\u001b[?25hRequirement already satisfied: protobuf>=3.12.0 in /home/jovyan/.local/lib/python3.6/site-packages (from google-api-core<2.0.0dev,>=1.16.0->google-cloud-core<2.0dev,>=1.2.0->google-cloud-storage>=1.13.0->kfp) (3.14.0)\n",
      "Requirement already satisfied: packaging>=14.3 in /home/jovyan/.local/lib/python3.6/site-packages (from google-api-core<2.0.0dev,>=1.16.0->google-cloud-core<2.0dev,>=1.2.0->google-cloud-storage>=1.13.0->kfp) (20.9)\n",
      "Requirement already satisfied: pytz in /usr/local/lib/python3.6/dist-packages (from google-api-core<2.0.0dev,>=1.16.0->google-cloud-core<2.0dev,>=1.2.0->google-cloud-storage>=1.13.0->kfp) (2019.3)\n",
      "Requirement already satisfied: requests<3.0.0dev,>=2.18.0 in /usr/local/lib/python3.6/dist-packages (from google-api-core<2.0.0dev,>=1.16.0->google-cloud-core<2.0dev,>=1.2.0->google-cloud-storage>=1.13.0->kfp) (2.22.0)\n",
      "Requirement already satisfied: pyrsistent>=0.14.0 in /usr/local/lib/python3.6/dist-packages (from jsonschema>=3.0.1->kfp) (0.15.7)\n",
      "Requirement already satisfied: importlib-metadata in /usr/local/lib/python3.6/dist-packages (from jsonschema>=3.0.1->kfp) (1.4.0)\n",
      "Requirement already satisfied: attrs>=17.4.0 in /usr/local/lib/python3.6/dist-packages (from jsonschema>=3.0.1->kfp) (19.3.0)\n",
      "Requirement already satisfied: certifi in /usr/local/lib/python3.6/dist-packages (from kfp-server-api<2.0.0,>=1.1.2->kfp) (2019.11.28)\n",
      "Requirement already satisfied: urllib3>=1.15 in /home/jovyan/.local/lib/python3.6/site-packages (from kfp-server-api<2.0.0,>=1.1.2->kfp) (1.24.2)\n",
      "Requirement already satisfied: python-dateutil in /usr/local/lib/python3.6/dist-packages (from kfp-server-api<2.0.0,>=1.1.2->kfp) (2.8.1)\n",
      "Requirement already satisfied: requests-oauthlib in /usr/local/lib/python3.6/dist-packages (from kubernetes<12.0.0,>=8.0.0->kfp) (1.3.0)\n",
      "Requirement already satisfied: websocket-client!=0.40.0,!=0.41.*,!=0.42.*,>=0.32.0 in /usr/local/lib/python3.6/dist-packages (from kubernetes<12.0.0,>=8.0.0->kfp) (0.57.0)\n",
      "Requirement already satisfied: pyparsing>=2.0.2 in /usr/local/lib/python3.6/dist-packages (from packaging>=14.3->google-api-core<2.0.0dev,>=1.16.0->google-cloud-core<2.0dev,>=1.2.0->google-cloud-storage>=1.13.0->kfp) (2.4.6)\n",
      "Requirement already satisfied: pyasn1<0.5.0,>=0.4.6 in /usr/local/lib/python3.6/dist-packages (from pyasn1-modules>=0.2.1->google-auth>=1.6.1->kfp) (0.4.8)\n",
      "Requirement already satisfied: chardet<3.1.0,>=3.0.2 in /usr/local/lib/python3.6/dist-packages (from requests<3.0.0dev,>=2.18.0->google-api-core<2.0.0dev,>=1.16.0->google-cloud-core<2.0dev,>=1.2.0->google-cloud-storage>=1.13.0->kfp) (3.0.4)\n",
      "Requirement already satisfied: idna<2.9,>=2.5 in /usr/lib/python3/dist-packages (from requests<3.0.0dev,>=2.18.0->google-api-core<2.0.0dev,>=1.16.0->google-cloud-core<2.0dev,>=1.2.0->google-cloud-storage>=1.13.0->kfp) (2.6)\n",
      "Requirement already satisfied: wrapt<2,>=1.10 in /usr/local/lib/python3.6/dist-packages (from Deprecated->kfp) (1.11.2)\n",
      "Requirement already satisfied: zipp>=0.5 in /usr/local/lib/python3.6/dist-packages (from importlib-metadata->jsonschema>=3.0.1->kfp) (0.6.0)\n",
      "Requirement already satisfied: more-itertools in /usr/local/lib/python3.6/dist-packages (from zipp>=0.5->importlib-metadata->jsonschema>=3.0.1->kfp) (8.0.2)\n",
      "Requirement already satisfied: oauthlib>=3.0.0 in /usr/local/lib/python3.6/dist-packages (from requests-oauthlib->kubernetes<12.0.0,>=8.0.0->kfp) (3.1.0)\n",
      "Requirement already satisfied: wheel in /usr/lib/python3/dist-packages (from strip-hints->kfp) (0.30.0)\n",
      "Installing collected packages: google-auth\n",
      "\u001b[31mERROR: pip's dependency resolver does not currently take into account all the packages that are installed. This behaviour is the source of the following dependency conflicts.\n",
      "kubeflow-fairing 1.0.2 requires python-dateutil<=2.8.0,>=2.1, but you have python-dateutil 2.8.1 which is incompatible.\n",
      "fairing 0.5 requires tornado<6.0.0,>=5.1.1, but you have tornado 6.1 which is incompatible.\u001b[0m\n",
      "Successfully installed google-auth-1.26.1\n"
     ]
    }
   ],
   "source": [
    "! pip install --upgrade pip --user\n",
    "! pip install --upgrade kfp --user"
   ]
  },
  {
   "cell_type": "code",
   "execution_count": 4,
   "metadata": {},
   "outputs": [
    {
     "data": {
      "text/html": [
       "<a href=\"http://kubeflow.needy-falcon-924.bubble.superhub.io/_/pipeline/#/experiments/details/33447829-b5d8-49f8-9a42-bb8949fe508c\" target=\"_blank\" >Experiment details</a>."
      ],
      "text/plain": [
       "<IPython.core.display.HTML object>"
      ]
     },
     "metadata": {},
     "output_type": "display_data"
    },
    {
     "data": {
      "text/html": [
       "<a href=\"http://kubeflow.needy-falcon-924.bubble.superhub.io/_/pipeline/#/runs/details/b4eb93c6-5207-42dc-a0fc-74c472b5a36e\" target=\"_blank\" >Run details</a>."
      ],
      "text/plain": [
       "<IPython.core.display.HTML object>"
      ]
     },
     "metadata": {},
     "output_type": "display_data"
    }
   ],
   "source": [
    "import kfp\n",
    "from kfp import dsl\n",
    "from kfp.compiler import Compiler\n",
    "\n",
    "def echo_op():\n",
    "    return dsl.ContainerOp(\n",
    "        name='echo',\n",
    "        image='library/bash:4.4.23',\n",
    "        command=['sh', '-c'],\n",
    "        arguments=['echo \"hello world\"']\n",
    "    )\n",
    "\n",
    "@dsl.pipeline(\n",
    "    name='My first pipeline',\n",
    "    description='A hello world pipeline.'\n",
    ")\n",
    "def hello_world_pipeline():\n",
    "    echo_task = echo_op()\n",
    "\n",
    "\n",
    "Compiler().compile(hello_world_pipeline, \"pipeline.yaml\")\n",
    "    \n",
    "client = kfp.Client()\n",
    "client.set_user_namespace( environ['THIS_NAMESPACE'] )\n",
    "exp = client.create_experiment(KFP_EXPERIMENT)\n",
    "\n",
    "run = client.run_pipeline(exp.id, \"Pipeline 1\", pipeline_package_path=\"pipeline.yaml\")"
   ]
  },
  {
   "cell_type": "code",
   "execution_count": null,
   "metadata": {},
   "outputs": [],
   "source": []
  },
  {
   "cell_type": "code",
   "execution_count": null,
   "metadata": {},
   "outputs": [],
   "source": []
  }
 ],
 "metadata": {
  "kernelspec": {
   "display_name": "Python 3",
   "language": "python",
   "name": "python3"
  },
  "language_info": {
   "codemirror_mode": {
    "name": "ipython",
    "version": 3
   },
   "file_extension": ".py",
   "mimetype": "text/x-python",
   "name": "python",
   "nbconvert_exporter": "python",
   "pygments_lexer": "ipython3",
   "version": "3.6.9"
  },
  "varInspector": {
   "cols": {
    "lenName": 16,
    "lenType": 16,
    "lenVar": 40
   },
   "kernels_config": {
    "python": {
     "delete_cmd_postfix": "",
     "delete_cmd_prefix": "del ",
     "library": "var_list.py",
     "varRefreshCmd": "print(var_dic_list())"
    },
    "r": {
     "delete_cmd_postfix": ") ",
     "delete_cmd_prefix": "rm(",
     "library": "var_list.r",
     "varRefreshCmd": "cat(var_dic_list()) "
    }
   },
   "position": {
    "height": "463px",
    "left": "1299px",
    "right": "20px",
    "top": "29px",
    "width": "350px"
   },
   "types_to_exclude": [
    "module",
    "function",
    "builtin_function_or_method",
    "instance",
    "_Feature"
   ],
   "window_display": true
  }
 },
 "nbformat": 4,
 "nbformat_minor": 4
}
