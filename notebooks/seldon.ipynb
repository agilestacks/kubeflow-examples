{
 "cells": [
  {
   "cell_type": "markdown",
   "metadata": {},
   "source": [
    "# Seldon Deployment\n",
    "\n",
    "Here we will prove that our permission model for seldon works as it should "
   ]
  },
  {
   "cell_type": "code",
   "execution_count": null,
   "metadata": {},
   "outputs": [],
   "source": [
    "! pip install --user --upgrade pip\n",
    "! pip install --user --upgrade seldon-core protobuf"
   ]
  },
  {
   "cell_type": "markdown",
   "metadata": {},
   "source": [
    "*!!!Restart kernel if `seldon-core` or `protobuf` has been installed*\n",
    "\n",
    "Now let's create a sample Seldon deployment. Super simple! Yet we need just something to try"
   ]
  },
  {
   "cell_type": "code",
   "execution_count": 1,
   "metadata": {},
   "outputs": [
    {
     "name": "stdout",
     "output_type": "stream",
     "text": [
      "seldondeployment.machinelearning.seldon.io/seldon-model created\n",
      "NAME                              TYPE        CLUSTER-IP       EXTERNAL-IP   PORT(S)             AGE\n",
      "seldon-model-example-classifier   ClusterIP   10.100.47.113    <none>        9000/TCP,9500/TCP   0s\n",
      "trying-seldon                     ClusterIP   10.100.157.254   <none>        80/TCP              4h44m\n"
     ]
    }
   ],
   "source": [
    "with open('seldon.yaml', 'w') as f:\n",
    "    f.write(\"\"\"\n",
    "apiVersion: machinelearning.seldon.io/v1\n",
    "kind: SeldonDeployment\n",
    "metadata:\n",
    "  name: seldon-model\n",
    "spec:\n",
    "  name: test-deployment\n",
    "  predictors:\n",
    "  - componentSpecs:\n",
    "    - spec:\n",
    "        containers:\n",
    "        - image: seldonio/mock_classifier_rest:1.3\n",
    "          name: classifier\n",
    "    graph:\n",
    "      children: []\n",
    "      endpoint:\n",
    "        type: REST\n",
    "      name: classifier\n",
    "      type: MODEL\n",
    "    name: example\n",
    "    replicas: 1\n",
    "\"\"\")\n",
    "    \n",
    "! kubectl apply -f 'seldon.yaml'\n",
    "! kubectl get services"
   ]
  },
  {
   "cell_type": "markdown",
   "metadata": {},
   "source": [
    "First things first! For the beginning let's prove that seldon is actually working by accessing model by it's kubernetes service"
   ]
  },
  {
   "cell_type": "code",
   "execution_count": 4,
   "metadata": {},
   "outputs": [
    {
     "name": "stdout",
     "output_type": "stream",
     "text": [
      "*   Trying 10.100.196.144...\r\n",
      "* TCP_NODELAY set\r\n",
      "* Connected to seldon-model-example.workspace.svc.cluster.local (10.100.196.144) port 8000 (#0)\r\n",
      "\r\n",
      "\r\n",
      "\r\n",
      "\r\n",
      "\r\n",
      "\r\n",
      "\r\n",
      "* upload completely sent off: 39 out of 39 bytes\r\n",
      "\r\n",
      "\r\n",
      "\r\n",
      "\r\n",
      "\r\n",
      "\r\n",
      "\r\n",
      "\r\n",
      "\r\n",
      "\r\n",
      "\r\n",
      "\r\n",
      "{\"data\":{\"names\":[\"proba\"],\"ndarray\":[[0.43782349911420193]]},\"meta\":{}}\r\n",
      "* Connection #0 to host seldon-model-example.workspace.svc.cluster.local left intact\r\n"
     ]
    }
   ],
   "source": [
    "! curl -vsd '{\"data\": {\"ndarray\":[[1.0, 2.0, 5.0]]}}' http://seldon-model-example.workspace.svc.cluster.local:8000/api/v1.0/predictions -H \"Content-Type: application/json\""
   ]
  },
  {
   "cell_type": "markdown",
   "metadata": {},
   "source": [
    "Now let's use "
   ]
  },
  {
   "cell_type": "code",
   "execution_count": 5,
   "metadata": {},
   "outputs": [
    {
     "name": "stdout",
     "output_type": "stream",
     "text": [
      "*   Trying 54.203.69.137...\n",
      "* TCP_NODELAY set\n",
      "* Connected to serving.female-kira-813.bubble.superhub.io (54.203.69.137) port 80 (#0)\n",
      "> POST /seldon/workspace/seldon-model/api/v1.0/predictions HTTP/1.1\n",
      "> Host: serving.female-kira-813.bubble.superhub.io\n",
      "> User-Agent: curl/7.58.0\n",
      "> Accept: */*\n",
      "> Content-Type: application/json\n",
      "> Content-Length: 39\n",
      "> \n",
      "* upload completely sent off: 39 out of 39 bytes\n",
      "< HTTP/1.1 200 OK\n",
      "< date: Tue, 05 Jan 2021 22:45:04 GMT\n",
      "< content-type: application/json\n",
      "< content-length: 73\n",
      "< access-control-allow-headers: Accept, Accept-Encoding, Authorization, Content-Length, Content-Type, X-CSRF-Token\n",
      "< access-control-allow-methods: OPTIONS,POST\n",
      "< access-control-allow-origin: *\n",
      "< seldon-puid: b7ccaa75-0ed2-482d-9b43-6835ec7ba201\n",
      "< x-content-type-options: nosniff\n",
      "< x-envoy-upstream-service-time: 19\n",
      "< server: envoy\n",
      "< \n",
      "{\"data\":{\"names\":[\"proba\"],\"ndarray\":[[0.43782349911420193]]},\"meta\":{}}\n",
      "* Connection #0 to host serving.female-kira-813.bubble.superhub.io left intact\n"
     ]
    }
   ],
   "source": [
    "! curl -vsd '{\"data\": {\"ndarray\":[[1.0, 2.0, 5.0]]}}' http://serving.female-kira-813.bubble.superhub.io/seldon/workspace/seldon-model/api/v1.0/predictions -H \"Content-Type: application/json\""
   ]
  },
  {
   "cell_type": "code",
   "execution_count": null,
   "metadata": {},
   "outputs": [],
   "source": []
  },
  {
   "cell_type": "code",
   "execution_count": 6,
   "metadata": {},
   "outputs": [],
   "source": [
    "from seldon_core.seldon_client import SeldonClient\n",
    "sc = SeldonClient(\n",
    "    deployment_name=\"seldon-model\",\n",
    "    gateway_endpoint=\"serving.female-kira-813.bubble.superhub.io\",\n",
    "    namespace=\"workspace\", debug=True\n",
    ")"
   ]
  },
  {
   "cell_type": "code",
   "execution_count": 7,
   "metadata": {},
   "outputs": [
    {
     "name": "stdout",
     "output_type": "stream",
     "text": [
      "send: b'POST /seldon/workspace/seldon-model/api/v1.0/predictions HTTP/1.1\\r\\nHost: serving.female-kira-813.bubble.superhub.io\\r\\nUser-Agent: python-requests/2.22.0\\r\\nAccept-Encoding: gzip, deflate\\r\\nAccept: */*\\r\\nConnection: keep-alive\\r\\nContent-Length: 83\\r\\nContent-Type: application/json\\r\\n\\r\\n'\n",
      "send: b'{\"meta\": {}, \"data\": {\"tensor\": {\"shape\": [1, 1], \"values\": [0.0740528698034908]}}}'\n",
      "reply: 'HTTP/1.1 200 OK\\r\\n'\n",
      "header: date: Tue, 05 Jan 2021 22:45:14 GMT\n",
      "header: content-type: application/json\n",
      "header: content-length: 95\n",
      "header: access-control-allow-headers: Accept, Accept-Encoding, Authorization, Content-Length, Content-Type, X-CSRF-Token\n",
      "header: access-control-allow-methods: OPTIONS,POST\n",
      "header: access-control-allow-origin: *\n",
      "header: seldon-puid: 1658104d-0448-476c-8364-b46da8fe6a34\n",
      "header: x-content-type-options: nosniff\n",
      "header: x-envoy-upstream-service-time: 8\n",
      "header: server: envoy\n"
     ]
    },
    {
     "data": {
      "text/plain": [
       "Success:True message:\n",
       "Request:\n",
       "meta {\n",
       "}\n",
       "data {\n",
       "  tensor {\n",
       "    shape: 1\n",
       "    shape: 1\n",
       "    values: 0.0740528698034908\n",
       "  }\n",
       "}\n",
       "\n",
       "Response:\n",
       "{'data': {'names': ['proba'], 'tensor': {'shape': [1, 1], 'values': [0.05506437766858161]}}, 'meta': {}}"
      ]
     },
     "execution_count": 7,
     "metadata": {},
     "output_type": "execute_result"
    }
   ],
   "source": [
    "sc.predict(gateway=\"istio\", transport=\"rest\")"
   ]
  },
  {
   "cell_type": "code",
   "execution_count": null,
   "metadata": {},
   "outputs": [],
   "source": [
    "! kubectl delete -f 'seldon.yaml'"
   ]
  },
  {
   "cell_type": "code",
   "execution_count": null,
   "metadata": {},
   "outputs": [],
   "source": []
  }
 ],
 "metadata": {
  "kernelspec": {
   "display_name": "Python 3",
   "language": "python",
   "name": "python3"
  },
  "language_info": {
   "codemirror_mode": {
    "name": "ipython",
    "version": 3
   },
   "file_extension": ".py",
   "mimetype": "text/x-python",
   "name": "python",
   "nbconvert_exporter": "python",
   "pygments_lexer": "ipython3",
   "version": "3.6.9"
  }
 },
 "nbformat": 4,
 "nbformat_minor": 4
}
